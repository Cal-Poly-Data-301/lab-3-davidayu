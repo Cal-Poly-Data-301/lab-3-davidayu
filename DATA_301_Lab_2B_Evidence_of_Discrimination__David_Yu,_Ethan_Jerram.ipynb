{
  "nbformat": 4,
  "nbformat_minor": 0,
  "metadata": {
    "kernelspec": {
      "display_name": "Python 3",
      "language": "python",
      "name": "python3"
    },
    "language_info": {
      "codemirror_mode": {
        "name": "ipython",
        "version": 3
      },
      "file_extension": ".py",
      "mimetype": "text/x-python",
      "name": "python",
      "nbconvert_exporter": "python",
      "pygments_lexer": "ipython3",
      "version": "3.6.4"
    },
    "colab": {
      "provenance": []
    }
  },
  "cells": [
    {
      "cell_type": "markdown",
      "metadata": {
        "id": "3GRr9ej57rEW"
      },
      "source": [
        "# Evidence of Discrimination?\n",
        "\n",
        "The Department of Developmental Services (DDS) in California is responsible for allocating funds to support over 250,000 developmentally-disabled residents. The data set `https://dlsun.github.io/pods/data/ca_dds_expenditures.csv` contains data about 1,000 of these residents. The data comes from a discrimination lawsuit which alleged that California's Department of Developmental Services (DDS) privileged white (non-Hispanic) residents over Hispanic residents in allocating funds. We will focus on comparing the allocation of funds (i.e., expenditures) for these two ethnicities only, although there are other ethnicities in this data set.\n",
        "\n",
        "There are 6 variables in this data set:\n",
        "\n",
        "- Id:  5-digit, unique identification code for each consumer (similar to a social security number and used for identification purposes)  \n",
        "- Age Cohort:  Binned age variable represented as six age cohorts (0-5, 6-12, 13-17, 18-21, 22-50, and 51+)\n",
        "- Age:  Unbinned age variable\n",
        "- Gender:  Male or Female\n",
        "- Expenditures:  Dollar amount of annual expenditures spent on each consumer\n",
        "- Ethnicity:  Eight ethnic groups (American Indian, Asian, Black, Hispanic, Multi-race, Native Hawaiian, Other, and White non-Hispanic)"
      ]
    },
    {
      "cell_type": "markdown",
      "metadata": {
        "id": "pBrvxdVd7rEY"
      },
      "source": [
        "# Question 1\n",
        "\n",
        "Read in the data set. Make a graphic that compares the _average_ expenditures by the DDS on Hispanic residents and white (non-Hispanic) residents. Comment on what you see."
      ]
    },
    {
      "cell_type": "code" ,
      "metadata": {
        "id": "HPu1DTOY7rEa",
        "outputId": "a465e07a-9495-4a9f-acd3-b02e28817369",
        "colab": {
          "base_uri": "https://localhost:8080/",
          "height": 295
        }
      },
      "source": [
        "import pandas as pd\n",
        "import matplotlib.pyplot as plt\n",
        "\n",
        "data_dir = \"https://dlsun.github.io/pods/data/\"\n",
        "df_dds = pd.read_csv(data_dir + \"ca_dds_expenditures.csv\")\n",
        "hispanic_exp_mean = df_dds[(df_dds[\"Ethnicity\"] == \"Hispanic\")][\"Expenditures\"].mean()\n",
        "white_exp_mean = df_dds[(df_dds[\"Ethnicity\"] == \"White not Hispanic\")][\"Expenditures\"].mean()\n",
        "\n",
        "labels = ['Hispanic', 'White not Hispanic']\n",
        "heights = [hispanic_exp_mean, white_exp_mean]\n",
        "\n",
        "plt.bar(labels, heights)\n",
        "plt.xlabel('Ethnicity')\n",
        "plt.ylabel('Average Expenditures')\n",
        "plt.title('Comparison of Average Expenditures by Ethnicity')\n",
        "plt.show()"
      ],
      "execution_count": null,
      "outputs": [
        {
          "output_type": "display_data",
          "data": {
            "text/plain": [
              "<Figure size 432x288 with 1 Axes>"
            ],
            "image/png": "[encoded data removed]"
          },
          "metadata": {
            "needs_background": "light"
          }
        }
      ]
    },
    {
      "cell_type": "markdown",
      "metadata": {
        "id": "FvfRcog37rEf"
      },
      "source": [
        "**YOUR EXPLANATION HERE**"
      ]
    },
    {
      "cell_type": "markdown",
      "source": [
        "According to the chart above, it would appear that people of White not Hispanic ethnicity, on average, have more than double the expenditures of people of Hispanic ethnicity. "
      ],
      "metadata": {
        "id": "lbeLT1xUl7aT"
      }
    },
    {
      "cell_type": "markdown",
      "metadata": {
        "id": "CmxE7M3o7rEg"
      },
      "source": [
        "# Question 2\n",
        "\n",
        "Now, calculate the average expenditures by ethnicity and age cohort. Make a graphic that compares the average expenditure on Hispanic residents and white (non-Hispanic) residents, _within each age cohort_. \n",
        "\n",
        "Comment on what you see. How do these results appear to contradict the results you obtained in Question 1?"
      ]
    },
    {
      "cell_type": "code",
      "metadata": {
        "id": "u_J1LRI37rEh",
        "colab": {
          "base_uri": "https://localhost:8080/",
          "height": 395
        },
        "outputId": "e3d6f02c-b3e5-4472-e003-a56f85468202"
      },
      "source": [
        "# YOUR CODE HERE\n",
        "from altair import * \n",
        "\n",
        "avg_exp_by_ethnicity_age_cohort = df_dds[(df_dds[\"Ethnicity\"] == \"Hispanic\") | (df_dds[\"Ethnicity\"] == \"White not Hispanic\")].groupby(['Age Cohort', 'Ethnicity'])['Expenditures'].mean().reset_index()\n",
        "\n",
        "# Create a bar chart to compare the average expenditures by ethnicity and age cohort\n",
        "Chart(avg_exp_by_ethnicity_age_cohort).mark_bar().encode(\n",
        "    x='Age Cohort',\n",
        "    y='Expenditures',\n",
        "    color='Ethnicity'\n",
        ")\n"
      ],
      "execution_count": null,
      "outputs": [
        {
          "output_type": "execute_result",
          "data": {
            "text/html": [
              "\n",
              "<div id=\"altair-viz-e2f1d3a0921b417abf24781be28747b3\"></div>\n",
              "<script type=\"text/javascript\">\n",
              "  var VEGA_DEBUG = (typeof VEGA_DEBUG == \"undefined\") ? {} : VEGA_DEBUG;\n",
              "  (function(spec, embedOpt){\n",
              "    let outputDiv = document.currentScript.previousElementSibling;\n",
              "    if (outputDiv.id !== \"altair-viz-e2f1d3a0921b417abf24781be28747b3\") {\n",
              "      outputDiv = document.getElementById(\"altair-viz-e2f1d3a0921b417abf24781be28747b3\");\n",
              "    }\n",
              "    const paths = {\n",
              "      \"vega\": \"https://cdn.jsdelivr.net/npm//vega@5?noext\",\n",
              "      \"vega-lib\": \"https://cdn.jsdelivr.net/npm//vega-lib?noext\",\n",
              "      \"vega-lite\": \"https://cdn.jsdelivr.net/npm//vega-lite@4.17.0?noext\",\n",
              "      \"vega-embed\": \"https://cdn.jsdelivr.net/npm//vega-embed@6?noext\",\n",
              "    };\n",
              "\n",
              "    function maybeLoadScript(lib, version) {\n",
              "      var key = `${lib.replace(\"-\", \"\")}_version`;\n",
              "      return (VEGA_DEBUG[key] == version) ?\n",
              "        Promise.resolve(paths[lib]) :\n",
              "        new Promise(function(resolve, reject) {\n",
              "          var s = document.createElement('script');\n",
              "          document.getElementsByTagName(\"head\")[0].appendChild(s);\n",
              "          s.async = true;\n",
              "          s.onload = () => {\n",
              "            VEGA_DEBUG[key] = version;\n",
              "            return resolve(paths[lib]);\n",
              "          };\n",
              "          s.onerror = () => reject(`Error loading script: ${paths[lib]}`);\n",
              "          s.src = paths[lib];\n",
              "        });\n",
              "    }\n",
              "\n",
              "    function showError(err) {\n",
              "      outputDiv.innerHTML = `<div class=\"error\" style=\"color:red;\">${err}</div>`;\n",
              "      throw err;\n",
              "    }\n",
              "\n",
              "    function displayChart(vegaEmbed) {\n",
              "      vegaEmbed(outputDiv, spec, embedOpt)\n",
              "        .catch(err => showError(`Javascript Error: ${err.message}<br>This usually means there's a typo in your chart specification. See the javascript console for the full traceback.`));\n",
              "    }\n",
              "\n",
              "    if(typeof define === \"function\" && define.amd) {\n",
              "      requirejs.config({paths});\n",
              "      require([\"vega-embed\"], displayChart, err => showError(`Error loading script: ${err.message}`));\n",
              "    } else {\n",
              "      maybeLoadScript(\"vega\", \"5\")\n",
              "        .then(() => maybeLoadScript(\"vega-lite\", \"4.17.0\"))\n",
              "        .then(() => maybeLoadScript(\"vega-embed\", \"6\"))\n",
              "        .catch(showError)\n",
              "        .then(() => displayChart(vegaEmbed));\n",
              "    }\n",
              "  })({\"config\": {\"view\": {\"continuousWidth\": 400, \"continuousHeight\": 300}}, \"data\": {\"name\": \"data-3d4c296fc437337a27ebad9e12d7aa75\"}, \"mark\": \"bar\", \"encoding\": {\"color\": {\"field\": \"Ethnicity\", \"type\": \"nominal\"}, \"x\": {\"field\": \"Age Cohort\", \"type\": \"nominal\"}, \"y\": {\"field\": \"Expenditures\", \"type\": \"quantitative\"}}, \"$schema\": \"https://vega.github.io/schema/vega-lite/v4.17.0.json\", \"datasets\": {\"data-3d4c296fc437337a27ebad9e12d7aa75\": [{\"Age Cohort\": \"0 to 5\", \"Ethnicity\": \"Hispanic\", \"Expenditures\": 1393.2045454545455}, {\"Age Cohort\": \"0 to 5\", \"Ethnicity\": \"White not Hispanic\", \"Expenditures\": 1366.9}, {\"Age Cohort\": \"13 to 17\", \"Ethnicity\": \"Hispanic\", \"Expenditures\": 3955.2815533980583}, {\"Age Cohort\": \"13 to 17\", \"Ethnicity\": \"White not Hispanic\", \"Expenditures\": 3904.3582089552237}, {\"Age Cohort\": \"18 to 21\", \"Ethnicity\": \"Hispanic\", \"Expenditures\": 9959.846153846154}, {\"Age Cohort\": \"18 to 21\", \"Ethnicity\": \"White not Hispanic\", \"Expenditures\": 10133.057971014492}, {\"Age Cohort\": \"22 to 50\", \"Ethnicity\": \"Hispanic\", \"Expenditures\": 40924.11627906977}, {\"Age Cohort\": \"22 to 50\", \"Ethnicity\": \"White not Hispanic\", \"Expenditures\": 40187.624060150374}, {\"Age Cohort\": \"51+\", \"Ethnicity\": \"Hispanic\", \"Expenditures\": 55585.0}, {\"Age Cohort\": \"51+\", \"Ethnicity\": \"White not Hispanic\", \"Expenditures\": 52670.42424242424}, {\"Age Cohort\": \"6 to 12\", \"Ethnicity\": \"Hispanic\", \"Expenditures\": 2312.186813186813}, {\"Age Cohort\": \"6 to 12\", \"Ethnicity\": \"White not Hispanic\", \"Expenditures\": 2052.2608695652175}]}}, {\"mode\": \"vega-lite\"});\n",
              "</script>"
            ],
            "text/plain": [
              "alt.Chart(...)"
            ]
          },
          "metadata": {},
          "execution_count": 5
        }
      ]
    },
    {
      "cell_type": "markdown",
      "metadata": {
        "id": "CFriAmRB7rEl"
      },
      "source": [
        "**YOUR EXPLANATION HERE**"
      ]
    },
    {
      "cell_type": "markdown",
      "source": [
        "According to the above chart, it would appear that the average expenditure on Hispanic residents and white residents within each age cohort are roughly similar. These results contradict the results obtained in Question 1 because according to the results of Question 1, we would assume that White not Hispanic residents received more than twice the amount Hispanics received."
      ],
      "metadata": {
        "id": "hAwm4CPzmKDO"
      }
    },
    {
      "cell_type": "markdown",
      "metadata": {
        "id": "vNJHIPO77rEm"
      },
      "source": [
        "# Question 3\n",
        "\n",
        "Can you explain the discrepancy between the two analyses you conducted above (i.e., Questions 1 and 2)? Try to tell a complete story that interweaves tables, graphics, and explanation.\n",
        "\n",
        "_Hint:_ You might want to consider looking at:\n",
        "\n",
        "- the distributions of ages of Hispanics and whites\n",
        "- the average expenditure as a function of age"
      ]
    },
    {
      "cell_type": "code",
      "metadata": {
        "id": "mo4aLinP7rEn",
        "colab": {
          "base_uri": "https://localhost:8080/",
          "height": 143
        },
        "outputId": "99d7dfaa-d78d-42ad-cb2d-0d3239d98424"
      },
      "source": [
        "df_hispanic_white = df_dds[(df_dds[\"Ethnicity\"] == \"Hispanic\") | (df_dds[\"Ethnicity\"] == \"White not Hispanic\")]\n",
        "\n",
        "pd.crosstab(df_hispanic_white[\"Ethnicity\"], df_hispanic_white[\"Age Cohort\"])"
      ],
      "execution_count": null,
      "outputs": [
        {
          "output_type": "execute_result",
          "data": {
            "text/plain": [
              "Age Cohort          0 to 5  13 to 17  18 to 21  22 to 50  51+  6 to 12\n",
              "Ethnicity                                                             \n",
              "Hispanic                44       103        78        43   17       91\n",
              "White not Hispanic      20        67        69       133   66       46"
            ],
            "text/html": [
              "\n",
              "  <div id=\"df-082fa158-c5fd-4dff-9a36-acbd85618f8a\">\n",
              "    <div class=\"colab-df-container\">\n",
              "      <div>\n",
              "<style scoped>\n",
              "    .dataframe tbody tr th:only-of-type {\n",
              "        vertical-align: middle;\n",
              "    }\n",
              "\n",
              "    .dataframe tbody tr th {\n",
              "        vertical-align: top;\n",
              "    }\n",
              "\n",
              "    .dataframe thead th {\n",
              "        text-align: right;\n",
              "    }\n",
              "</style>\n",
              "<table border=\"1\" class=\"dataframe\">\n",
              "  <thead>\n",
              "    <tr style=\"text-align: right;\">\n",
              "      <th>Age Cohort</th>\n",
              "      <th>0 to 5</th>\n",
              "      <th>13 to 17</th>\n",
              "      <th>18 to 21</th>\n",
              "      <th>22 to 50</th>\n",
              "      <th>51+</th>\n",
              "      <th>6 to 12</th>\n",
              "    </tr>\n",
              "    <tr>\n",
              "      <th>Ethnicity</th>\n",
              "      <th></th>\n",
              "      <th></th>\n",
              "      <th></th>\n",
              "      <th></th>\n",
              "      <th></th>\n",
              "      <th></th>\n",
              "    </tr>\n",
              "  </thead>\n",
              "  <tbody>\n",
              "    <tr>\n",
              "      <th>Hispanic</th>\n",
              "      <td>44</td>\n",
              "      <td>103</td>\n",
              "      <td>78</td>\n",
              "      <td>43</td>\n",
              "      <td>17</td>\n",
              "      <td>91</td>\n",
              "    </tr>\n",
              "    <tr>\n",
              "      <th>White not Hispanic</th>\n",
              "      <td>20</td>\n",
              "      <td>67</td>\n",
              "      <td>69</td>\n",
              "      <td>133</td>\n",
              "      <td>66</td>\n",
              "      <td>46</td>\n",
              "    </tr>\n",
              "  </tbody>\n",
              "</table>\n",
              "</div>\n",
              "      <button class=\"colab-df-convert\" onclick=\"convertToInteractive('df-082fa158-c5fd-4dff-9a36-acbd85618f8a')\"\n",
              "              title=\"Convert this dataframe to an interactive table.\"\n",
              "              style=\"display:none;\">\n",
              "        \n",
              "  <svg xmlns=\"http://www.w3.org/2000/svg\" height=\"24px\"viewBox=\"0 0 24 24\"\n",
              "       width=\"24px\">\n",
              "    <path d=\"M0 0h24v24H0V0z\" fill=\"none\"/>\n",
              "    <path d=\"M18.56 5.44l.94 2.06.94-2.06 2.06-.94-2.06-.94-.94-2.06-.94 2.06-2.06.94zm-11 1L8.5 8.5l.94-2.06 2.06-.94-2.06-.94L8.5 2.5l-.94 2.06-2.06.94zm10 10l.94 2.06.94-2.06 2.06-.94-2.06-.94-.94-2.06-.94 2.06-2.06.94z\"/><path d=\"M17.41 7.96l-1.37-1.37c-.4-.4-.92-.59-1.43-.59-.52 0-1.04.2-1.43.59L10.3 9.45l-7.72 7.72c-.78.78-.78 2.05 0 2.83L4 21.41c.39.39.9.59 1.41.59.51 0 1.02-.2 1.41-.59l7.78-7.78 2.81-2.81c.8-.78.8-2.07 0-2.86zM5.41 20L4 18.59l7.72-7.72 1.47 1.35L5.41 20z\"/>\n",
              "  </svg>\n",
              "      </button>\n",
              "      \n",
              "  <style>\n",
              "    .colab-df-container {\n",
              "      display:flex;\n",
              "      flex-wrap:wrap;\n",
              "      gap: 12px;\n",
              "    }\n",
              "\n",
              "    .colab-df-convert {\n",
              "      background-color: #E8F0FE;\n",
              "      border: none;\n",
              "      border-radius: 50%;\n",
              "      cursor: pointer;\n",
              "      display: none;\n",
              "      fill: #1967D2;\n",
              "      height: 32px;\n",
              "      padding: 0 0 0 0;\n",
              "      width: 32px;\n",
              "    }\n",
              "\n",
              "    .colab-df-convert:hover {\n",
              "      background-color: #E2EBFA;\n",
              "      box-shadow: 0px 1px 2px rgba(60, 64, 67, 0.3), 0px 1px 3px 1px rgba(60, 64, 67, 0.15);\n",
              "      fill: #174EA6;\n",
              "    }\n",
              "\n",
              "    [theme=dark] .colab-df-convert {\n",
              "      background-color: #3B4455;\n",
              "      fill: #D2E3FC;\n",
              "    }\n",
              "\n",
              "    [theme=dark] .colab-df-convert:hover {\n",
              "      background-color: #434B5C;\n",
              "      box-shadow: 0px 1px 3px 1px rgba(0, 0, 0, 0.15);\n",
              "      filter: drop-shadow(0px 1px 2px rgba(0, 0, 0, 0.3));\n",
              "      fill: #FFFFFF;\n",
              "    }\n",
              "  </style>\n",
              "\n",
              "      <script>\n",
              "        const buttonEl =\n",
              "          document.querySelector('#df-082fa158-c5fd-4dff-9a36-acbd85618f8a button.colab-df-convert');\n",
              "        buttonEl.style.display =\n",
              "          google.colab.kernel.accessAllowed ? 'block' : 'none';\n",
              "\n",
              "        async function convertToInteractive(key) {\n",
              "          const element = document.querySelector('#df-082fa158-c5fd-4dff-9a36-acbd85618f8a');\n",
              "          const dataTable =\n",
              "            await google.colab.kernel.invokeFunction('convertToInteractive',\n",
              "                                                     [key], {});\n",
              "          if (!dataTable) return;\n",
              "\n",
              "          const docLinkHtml = 'Like what you see? Visit the ' +\n",
              "            '<a target=\"_blank\" href=https://colab.research.google.com/notebooks/data_table.ipynb>data table notebook</a>'\n",
              "            + ' to learn more about interactive tables.';\n",
              "          element.innerHTML = '';\n",
              "          dataTable['output_type'] = 'display_data';\n",
              "          await google.colab.output.renderOutput(dataTable, element);\n",
              "          const docLink = document.createElement('div');\n",
              "          docLink.innerHTML = docLinkHtml;\n",
              "          element.appendChild(docLink);\n",
              "        }\n",
              "      </script>\n",
              "    </div>\n",
              "  </div>\n",
              "  "
            ]
          },
          "metadata": {},
          "execution_count": 59
        }
      ]
    },
    {
      "cell_type": "code",
      "source": [
        "df_dds['Avg_Expenditure'] = df_dds.groupby('Age')['Expenditures'].transform(\"mean\")\n",
        "# Create the dataframe\n",
        "expenditure_by_age = df_dds.groupby('Age')['Avg_Expenditure'].mean()\n",
        "expenditure_by_age.plot()"
      ],
      "metadata": {
        "colab": {
          "base_uri": "https://localhost:8080/",
          "height": 297
        },
        "id": "DzKnGONGrCgX",
        "outputId": "f1a24177-88ba-4fbf-969f-88c62f9ed62a"
      },
      "execution_count": null,
      "outputs": [
        {
          "output_type": "execute_result",
          "data": {
            "text/plain": [
              "<matplotlib.axes._subplots.AxesSubplot at 0x7fae7a71ff10>"
            ]
          },
          "metadata": {},
          "execution_count": 66
        },
        {
          "output_type": "display_data",
          "data": {
            "text/plain": [
              "<Figure size 432x288 with 1 Axes>"
            ],
            "image/png": "[encoded data removed]"
          },
          "metadata": {
            "needs_background": "light"
          }
        }
      ]
    },
    {
      "cell_type": "markdown",
      "source": [
        "As you can see above, the younger age cohorts consists of much more hispanics while the older age cohorts consists of much more whites. Because older people require more expenditure, for question 1, it makes sense that white people have much higher expenditure than hispanic people"
      ],
      "metadata": {
        "id": "afPAlE-kqGWH"
      }
    },
    {
      "cell_type": "markdown",
      "metadata": {
        "id": "dmdJ1RTp7rEq"
      },
      "source": [
        "**YOUR EXPLANATION HERE (although you may want to add more markdown cells)**"
      ]
    },
    {
      "cell_type": "markdown",
      "metadata": {
        "id": "4JdcqKm57rEr"
      },
      "source": [
        "## Submission Instructions\n",
        "\n",
        "- Copy this notebook to your own Drive, if you have not already.\n",
        "- Restart this notebook and run the cells from beginning to end. \n",
        "  - Go to Runtime > Restart and Run All.\n",
        "- Rename this notebook by clicking on \"DATA 301 Lab 2B - YOUR NAME HERE\" at the very top of this page. Replace \"YOUR NAMES HERE\" with the first and last names of you (and your partners, for Phase 2).\n",
        "- Get the link to your notebook:\n",
        "  - Click on \"Share\" at the top-right. \n",
        "  - Change the settings to \"Anyone with the link can view\". \n",
        "  - Copy the sharing link into Canvas."
      ]
    }
  ]
}
